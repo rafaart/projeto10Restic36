{
  "cells": [
    {
      "cell_type": "markdown",
      "metadata": {
        "id": "view-in-github",
        "colab_type": "text"
      },
      "source": [
        "<a href=\"https://colab.research.google.com/github/rafaart/projeto10Restic36/blob/develop/K_MEANS_UNID_10.ipynb\" target=\"_parent\"><img src=\"https://colab.research.google.com/assets/colab-badge.svg\" alt=\"Open In Colab\"/></a>"
      ]
    },
    {
      "cell_type": "markdown",
      "metadata": {
        "id": "j3CG38-AIfYD"
      },
      "source": [
        "# Importando as bibliotecas 📚"
      ]
    },
    {
      "cell_type": "code",
      "execution_count": null,
      "metadata": {
        "id": "8Hstnos5y5Tx"
      },
      "outputs": [],
      "source": [
        "#importando as bibliotecas\n",
        "import pandas as pd\n",
        "import numpy as np\n",
        "import matplotlib.pyplot as plt\n",
        "from sklearn.cluster import KMeans\n",
        "import matplotlib.pyplot as plt\n",
        "from sklearn.preprocessing import StandardScaler\n",
        "from sklearn.decomposition import PCA\n",
        "import seaborn as sns\n",
        "from sklearn.metrics import silhouette_score\n",
        "from sklearn.metrics import adjusted_rand_score\n",
        "from sklearn.metrics import calinski_harabasz_score\n"
      ]
    },
    {
      "cell_type": "markdown",
      "metadata": {
        "id": "Lo-noqiMItUJ"
      },
      "source": [
        "# Carregando o Data frame 📤"
      ]
    },
    {
      "cell_type": "markdown",
      "metadata": {
        "id": "XOKMXZyPCt8J"
      },
      "source": [
        "\n",
        "Verificando o número de colunas ao carregar os dados.\n",
        "\n",
        "Renomeando as colunas de acordo com o número correto de colunas."
      ]
    },
    {
      "cell_type": "markdown",
      "metadata": {
        "id": "FY-wSIYsC5JV"
      },
      "source": [
        "Passo 1: Verificar o número de colunas\n",
        "Primeiro, carregando o DataFrame e verifique quantas colunas ele tem:"
      ]
    },
    {
      "cell_type": "code",
      "execution_count": null,
      "metadata": {
        "colab": {
          "base_uri": "https://localhost:8080/"
        },
        "id": "_b2Gdy5qK9iW",
        "outputId": "8b12adb4-cefa-4079-c004-117a4738824a"
      },
      "outputs": [
        {
          "output_type": "stream",
          "name": "stdout",
          "text": [
            "Mounted at /content/drive\n"
          ]
        }
      ],
      "source": [
        "import os\n",
        "from google.colab import drive\n",
        "drive.mount('/content/drive')"
      ]
    },
    {
      "cell_type": "code",
      "execution_count": null,
      "metadata": {
        "colab": {
          "base_uri": "https://localhost:8080/"
        },
        "id": "dYDfVL3W9oiC",
        "outputId": "421d44da-1b6e-47d7-dca5-310e9ba0d486"
      },
      "outputs": [
        {
          "output_type": "stream",
          "name": "stderr",
          "text": [
            "<ipython-input-4-af8ff3ef8824>:4: FutureWarning: The 'delim_whitespace' keyword in pd.read_csv is deprecated and will be removed in a future version. Use ``sep='\\s+'`` instead\n",
            "  df_x_train = pd.read_csv(data_path + 'X_train.txt', delim_whitespace=True, header=None)\n"
          ]
        },
        {
          "output_type": "stream",
          "name": "stdout",
          "text": [
            "(7352, 561)\n",
            "(2947, 1)\n"
          ]
        }
      ],
      "source": [
        "# Definir o caminho da pasta K-means no Google Drive\n",
        "data_path = '/content/drive/MyDrive/teste/'\n",
        "# Carregar os arquivos de dados\n",
        "df_x_train = pd.read_csv(data_path + 'X_train.txt', delim_whitespace=True, header=None)\n",
        "#X_test = pd.read_csv(data_path + 'X_test.txt', delim_whitespace=True, header=None)\n",
        "#y_train = pd.read_csv(data_path + 'y_train.txt', header=None, names=['Activity'])\n",
        "y_test = pd.read_csv(data_path + 'y_test.txt', header=None, names=['Activity'])\n",
        "print(df_x_train.shape)\n",
        "print(y_test.shape)"
      ]
    },
    {
      "cell_type": "code",
      "execution_count": null,
      "metadata": {
        "colab": {
          "base_uri": "https://localhost:8080/"
        },
        "id": "CEjqHRJgQ_EB",
        "outputId": "0b58fb49-b26a-441e-e1b2-4d0a08276f7f"
      },
      "outputs": [
        {
          "output_type": "stream",
          "name": "stdout",
          "text": [
            "Quantidade de colunas: 561\n",
            "   Activity\n",
            "0         5\n",
            "1         5\n",
            "2         5\n",
            "3         5\n",
            "4         5\n",
            "5         5\n",
            "6         5\n",
            "7         5\n",
            "8         5\n",
            "9         5\n"
          ]
        }
      ],
      "source": [
        "# Verificar a quantidade de colunas\n",
        "print(f\"Quantidade de colunas: {df_x_train.shape[1]}\")\n",
        "\n",
        "# Exibir as primeiras linhas do DataFrame\n",
        "print(y_test.head(10))"
      ]
    },
    {
      "cell_type": "code",
      "execution_count": null,
      "metadata": {
        "colab": {
          "base_uri": "https://localhost:8080/",
          "height": 350
        },
        "id": "smk75lCRROmc",
        "outputId": "e84bdb7b-5274-4dd9-d82c-dd68cf728fbe"
      },
      "outputs": [
        {
          "output_type": "execute_result",
          "data": {
            "text/plain": [
              "               0            1            2            3            4    \\\n",
              "count  7352.000000  7352.000000  7352.000000  7352.000000  7352.000000   \n",
              "mean      0.274488    -0.017695    -0.109141    -0.605438    -0.510938   \n",
              "std       0.070261     0.040811     0.056635     0.448734     0.502645   \n",
              "min      -1.000000    -1.000000    -1.000000    -1.000000    -0.999873   \n",
              "25%       0.262975    -0.024863    -0.120993    -0.992754    -0.978129   \n",
              "50%       0.277193    -0.017219    -0.108676    -0.946196    -0.851897   \n",
              "75%       0.288461    -0.010783    -0.097794    -0.242813    -0.034231   \n",
              "max       1.000000     1.000000     1.000000     1.000000     0.916238   \n",
              "\n",
              "               5            6            7            8            9    ...  \\\n",
              "count  7352.000000  7352.000000  7352.000000  7352.000000  7352.000000  ...   \n",
              "mean     -0.604754    -0.630512    -0.526907    -0.606150    -0.468604  ...   \n",
              "std       0.418687     0.424073     0.485942     0.414122     0.544547  ...   \n",
              "min      -1.000000    -1.000000    -1.000000    -1.000000    -1.000000  ...   \n",
              "25%      -0.980233    -0.993591    -0.978162    -0.980251    -0.936219  ...   \n",
              "50%      -0.859365    -0.950709    -0.857328    -0.857143    -0.881637  ...   \n",
              "75%      -0.262415    -0.292680    -0.066701    -0.265671    -0.017129  ...   \n",
              "max       1.000000     1.000000     0.967664     1.000000     1.000000  ...   \n",
              "\n",
              "               551          552          553          554          555  \\\n",
              "count  7352.000000  7352.000000  7352.000000  7352.000000  7352.000000   \n",
              "mean      0.125293    -0.307009    -0.625294     0.008684     0.002186   \n",
              "std       0.250994     0.321011     0.307584     0.336787     0.448306   \n",
              "min      -1.000000    -0.995357    -0.999765    -0.976580    -1.000000   \n",
              "25%      -0.023692    -0.542602    -0.845573    -0.121527    -0.289549   \n",
              "50%       0.134000    -0.343685    -0.711692     0.009509     0.008943   \n",
              "75%       0.289096    -0.126979    -0.503878     0.150865     0.292861   \n",
              "max       0.946700     0.989538     0.956845     1.000000     1.000000   \n",
              "\n",
              "               556          557          558          559          560  \n",
              "count  7352.000000  7352.000000  7352.000000  7352.000000  7352.000000  \n",
              "mean      0.008726    -0.005981    -0.489547     0.058593    -0.056515  \n",
              "std       0.608303     0.477975     0.511807     0.297480     0.279122  \n",
              "min      -1.000000    -1.000000    -1.000000    -1.000000    -1.000000  \n",
              "25%      -0.482273    -0.376341    -0.812065    -0.017885    -0.143414  \n",
              "50%       0.008735    -0.000368    -0.709417     0.182071     0.003181  \n",
              "75%       0.506187     0.359368    -0.509079     0.248353     0.107659  \n",
              "max       0.998702     0.996078     1.000000     0.478157     1.000000  \n",
              "\n",
              "[8 rows x 561 columns]"
            ],
            "text/html": [
              "\n",
              "  <div id=\"df-26fa7ea7-e2ef-483b-9e26-e66100cc9068\" class=\"colab-df-container\">\n",
              "    <div>\n",
              "<style scoped>\n",
              "    .dataframe tbody tr th:only-of-type {\n",
              "        vertical-align: middle;\n",
              "    }\n",
              "\n",
              "    .dataframe tbody tr th {\n",
              "        vertical-align: top;\n",
              "    }\n",
              "\n",
              "    .dataframe thead th {\n",
              "        text-align: right;\n",
              "    }\n",
              "</style>\n",
              "<table border=\"1\" class=\"dataframe\">\n",
              "  <thead>\n",
              "    <tr style=\"text-align: right;\">\n",
              "      <th></th>\n",
              "      <th>0</th>\n",
              "      <th>1</th>\n",
              "      <th>2</th>\n",
              "      <th>3</th>\n",
              "      <th>4</th>\n",
              "      <th>5</th>\n",
              "      <th>6</th>\n",
              "      <th>7</th>\n",
              "      <th>8</th>\n",
              "      <th>9</th>\n",
              "      <th>...</th>\n",
              "      <th>551</th>\n",
              "      <th>552</th>\n",
              "      <th>553</th>\n",
              "      <th>554</th>\n",
              "      <th>555</th>\n",
              "      <th>556</th>\n",
              "      <th>557</th>\n",
              "      <th>558</th>\n",
              "      <th>559</th>\n",
              "      <th>560</th>\n",
              "    </tr>\n",
              "  </thead>\n",
              "  <tbody>\n",
              "    <tr>\n",
              "      <th>count</th>\n",
              "      <td>7352.000000</td>\n",
              "      <td>7352.000000</td>\n",
              "      <td>7352.000000</td>\n",
              "      <td>7352.000000</td>\n",
              "      <td>7352.000000</td>\n",
              "      <td>7352.000000</td>\n",
              "      <td>7352.000000</td>\n",
              "      <td>7352.000000</td>\n",
              "      <td>7352.000000</td>\n",
              "      <td>7352.000000</td>\n",
              "      <td>...</td>\n",
              "      <td>7352.000000</td>\n",
              "      <td>7352.000000</td>\n",
              "      <td>7352.000000</td>\n",
              "      <td>7352.000000</td>\n",
              "      <td>7352.000000</td>\n",
              "      <td>7352.000000</td>\n",
              "      <td>7352.000000</td>\n",
              "      <td>7352.000000</td>\n",
              "      <td>7352.000000</td>\n",
              "      <td>7352.000000</td>\n",
              "    </tr>\n",
              "    <tr>\n",
              "      <th>mean</th>\n",
              "      <td>0.274488</td>\n",
              "      <td>-0.017695</td>\n",
              "      <td>-0.109141</td>\n",
              "      <td>-0.605438</td>\n",
              "      <td>-0.510938</td>\n",
              "      <td>-0.604754</td>\n",
              "      <td>-0.630512</td>\n",
              "      <td>-0.526907</td>\n",
              "      <td>-0.606150</td>\n",
              "      <td>-0.468604</td>\n",
              "      <td>...</td>\n",
              "      <td>0.125293</td>\n",
              "      <td>-0.307009</td>\n",
              "      <td>-0.625294</td>\n",
              "      <td>0.008684</td>\n",
              "      <td>0.002186</td>\n",
              "      <td>0.008726</td>\n",
              "      <td>-0.005981</td>\n",
              "      <td>-0.489547</td>\n",
              "      <td>0.058593</td>\n",
              "      <td>-0.056515</td>\n",
              "    </tr>\n",
              "    <tr>\n",
              "      <th>std</th>\n",
              "      <td>0.070261</td>\n",
              "      <td>0.040811</td>\n",
              "      <td>0.056635</td>\n",
              "      <td>0.448734</td>\n",
              "      <td>0.502645</td>\n",
              "      <td>0.418687</td>\n",
              "      <td>0.424073</td>\n",
              "      <td>0.485942</td>\n",
              "      <td>0.414122</td>\n",
              "      <td>0.544547</td>\n",
              "      <td>...</td>\n",
              "      <td>0.250994</td>\n",
              "      <td>0.321011</td>\n",
              "      <td>0.307584</td>\n",
              "      <td>0.336787</td>\n",
              "      <td>0.448306</td>\n",
              "      <td>0.608303</td>\n",
              "      <td>0.477975</td>\n",
              "      <td>0.511807</td>\n",
              "      <td>0.297480</td>\n",
              "      <td>0.279122</td>\n",
              "    </tr>\n",
              "    <tr>\n",
              "      <th>min</th>\n",
              "      <td>-1.000000</td>\n",
              "      <td>-1.000000</td>\n",
              "      <td>-1.000000</td>\n",
              "      <td>-1.000000</td>\n",
              "      <td>-0.999873</td>\n",
              "      <td>-1.000000</td>\n",
              "      <td>-1.000000</td>\n",
              "      <td>-1.000000</td>\n",
              "      <td>-1.000000</td>\n",
              "      <td>-1.000000</td>\n",
              "      <td>...</td>\n",
              "      <td>-1.000000</td>\n",
              "      <td>-0.995357</td>\n",
              "      <td>-0.999765</td>\n",
              "      <td>-0.976580</td>\n",
              "      <td>-1.000000</td>\n",
              "      <td>-1.000000</td>\n",
              "      <td>-1.000000</td>\n",
              "      <td>-1.000000</td>\n",
              "      <td>-1.000000</td>\n",
              "      <td>-1.000000</td>\n",
              "    </tr>\n",
              "    <tr>\n",
              "      <th>25%</th>\n",
              "      <td>0.262975</td>\n",
              "      <td>-0.024863</td>\n",
              "      <td>-0.120993</td>\n",
              "      <td>-0.992754</td>\n",
              "      <td>-0.978129</td>\n",
              "      <td>-0.980233</td>\n",
              "      <td>-0.993591</td>\n",
              "      <td>-0.978162</td>\n",
              "      <td>-0.980251</td>\n",
              "      <td>-0.936219</td>\n",
              "      <td>...</td>\n",
              "      <td>-0.023692</td>\n",
              "      <td>-0.542602</td>\n",
              "      <td>-0.845573</td>\n",
              "      <td>-0.121527</td>\n",
              "      <td>-0.289549</td>\n",
              "      <td>-0.482273</td>\n",
              "      <td>-0.376341</td>\n",
              "      <td>-0.812065</td>\n",
              "      <td>-0.017885</td>\n",
              "      <td>-0.143414</td>\n",
              "    </tr>\n",
              "    <tr>\n",
              "      <th>50%</th>\n",
              "      <td>0.277193</td>\n",
              "      <td>-0.017219</td>\n",
              "      <td>-0.108676</td>\n",
              "      <td>-0.946196</td>\n",
              "      <td>-0.851897</td>\n",
              "      <td>-0.859365</td>\n",
              "      <td>-0.950709</td>\n",
              "      <td>-0.857328</td>\n",
              "      <td>-0.857143</td>\n",
              "      <td>-0.881637</td>\n",
              "      <td>...</td>\n",
              "      <td>0.134000</td>\n",
              "      <td>-0.343685</td>\n",
              "      <td>-0.711692</td>\n",
              "      <td>0.009509</td>\n",
              "      <td>0.008943</td>\n",
              "      <td>0.008735</td>\n",
              "      <td>-0.000368</td>\n",
              "      <td>-0.709417</td>\n",
              "      <td>0.182071</td>\n",
              "      <td>0.003181</td>\n",
              "    </tr>\n",
              "    <tr>\n",
              "      <th>75%</th>\n",
              "      <td>0.288461</td>\n",
              "      <td>-0.010783</td>\n",
              "      <td>-0.097794</td>\n",
              "      <td>-0.242813</td>\n",
              "      <td>-0.034231</td>\n",
              "      <td>-0.262415</td>\n",
              "      <td>-0.292680</td>\n",
              "      <td>-0.066701</td>\n",
              "      <td>-0.265671</td>\n",
              "      <td>-0.017129</td>\n",
              "      <td>...</td>\n",
              "      <td>0.289096</td>\n",
              "      <td>-0.126979</td>\n",
              "      <td>-0.503878</td>\n",
              "      <td>0.150865</td>\n",
              "      <td>0.292861</td>\n",
              "      <td>0.506187</td>\n",
              "      <td>0.359368</td>\n",
              "      <td>-0.509079</td>\n",
              "      <td>0.248353</td>\n",
              "      <td>0.107659</td>\n",
              "    </tr>\n",
              "    <tr>\n",
              "      <th>max</th>\n",
              "      <td>1.000000</td>\n",
              "      <td>1.000000</td>\n",
              "      <td>1.000000</td>\n",
              "      <td>1.000000</td>\n",
              "      <td>0.916238</td>\n",
              "      <td>1.000000</td>\n",
              "      <td>1.000000</td>\n",
              "      <td>0.967664</td>\n",
              "      <td>1.000000</td>\n",
              "      <td>1.000000</td>\n",
              "      <td>...</td>\n",
              "      <td>0.946700</td>\n",
              "      <td>0.989538</td>\n",
              "      <td>0.956845</td>\n",
              "      <td>1.000000</td>\n",
              "      <td>1.000000</td>\n",
              "      <td>0.998702</td>\n",
              "      <td>0.996078</td>\n",
              "      <td>1.000000</td>\n",
              "      <td>0.478157</td>\n",
              "      <td>1.000000</td>\n",
              "    </tr>\n",
              "  </tbody>\n",
              "</table>\n",
              "<p>8 rows × 561 columns</p>\n",
              "</div>\n",
              "    <div class=\"colab-df-buttons\">\n",
              "\n",
              "  <div class=\"colab-df-container\">\n",
              "    <button class=\"colab-df-convert\" onclick=\"convertToInteractive('df-26fa7ea7-e2ef-483b-9e26-e66100cc9068')\"\n",
              "            title=\"Convert this dataframe to an interactive table.\"\n",
              "            style=\"display:none;\">\n",
              "\n",
              "  <svg xmlns=\"http://www.w3.org/2000/svg\" height=\"24px\" viewBox=\"0 -960 960 960\">\n",
              "    <path d=\"M120-120v-720h720v720H120Zm60-500h600v-160H180v160Zm220 220h160v-160H400v160Zm0 220h160v-160H400v160ZM180-400h160v-160H180v160Zm440 0h160v-160H620v160ZM180-180h160v-160H180v160Zm440 0h160v-160H620v160Z\"/>\n",
              "  </svg>\n",
              "    </button>\n",
              "\n",
              "  <style>\n",
              "    .colab-df-container {\n",
              "      display:flex;\n",
              "      gap: 12px;\n",
              "    }\n",
              "\n",
              "    .colab-df-convert {\n",
              "      background-color: #E8F0FE;\n",
              "      border: none;\n",
              "      border-radius: 50%;\n",
              "      cursor: pointer;\n",
              "      display: none;\n",
              "      fill: #1967D2;\n",
              "      height: 32px;\n",
              "      padding: 0 0 0 0;\n",
              "      width: 32px;\n",
              "    }\n",
              "\n",
              "    .colab-df-convert:hover {\n",
              "      background-color: #E2EBFA;\n",
              "      box-shadow: 0px 1px 2px rgba(60, 64, 67, 0.3), 0px 1px 3px 1px rgba(60, 64, 67, 0.15);\n",
              "      fill: #174EA6;\n",
              "    }\n",
              "\n",
              "    .colab-df-buttons div {\n",
              "      margin-bottom: 4px;\n",
              "    }\n",
              "\n",
              "    [theme=dark] .colab-df-convert {\n",
              "      background-color: #3B4455;\n",
              "      fill: #D2E3FC;\n",
              "    }\n",
              "\n",
              "    [theme=dark] .colab-df-convert:hover {\n",
              "      background-color: #434B5C;\n",
              "      box-shadow: 0px 1px 3px 1px rgba(0, 0, 0, 0.15);\n",
              "      filter: drop-shadow(0px 1px 2px rgba(0, 0, 0, 0.3));\n",
              "      fill: #FFFFFF;\n",
              "    }\n",
              "  </style>\n",
              "\n",
              "    <script>\n",
              "      const buttonEl =\n",
              "        document.querySelector('#df-26fa7ea7-e2ef-483b-9e26-e66100cc9068 button.colab-df-convert');\n",
              "      buttonEl.style.display =\n",
              "        google.colab.kernel.accessAllowed ? 'block' : 'none';\n",
              "\n",
              "      async function convertToInteractive(key) {\n",
              "        const element = document.querySelector('#df-26fa7ea7-e2ef-483b-9e26-e66100cc9068');\n",
              "        const dataTable =\n",
              "          await google.colab.kernel.invokeFunction('convertToInteractive',\n",
              "                                                    [key], {});\n",
              "        if (!dataTable) return;\n",
              "\n",
              "        const docLinkHtml = 'Like what you see? Visit the ' +\n",
              "          '<a target=\"_blank\" href=https://colab.research.google.com/notebooks/data_table.ipynb>data table notebook</a>'\n",
              "          + ' to learn more about interactive tables.';\n",
              "        element.innerHTML = '';\n",
              "        dataTable['output_type'] = 'display_data';\n",
              "        await google.colab.output.renderOutput(dataTable, element);\n",
              "        const docLink = document.createElement('div');\n",
              "        docLink.innerHTML = docLinkHtml;\n",
              "        element.appendChild(docLink);\n",
              "      }\n",
              "    </script>\n",
              "  </div>\n",
              "\n",
              "\n",
              "<div id=\"df-282649de-b95f-475d-a860-571062329622\">\n",
              "  <button class=\"colab-df-quickchart\" onclick=\"quickchart('df-282649de-b95f-475d-a860-571062329622')\"\n",
              "            title=\"Suggest charts\"\n",
              "            style=\"display:none;\">\n",
              "\n",
              "<svg xmlns=\"http://www.w3.org/2000/svg\" height=\"24px\"viewBox=\"0 0 24 24\"\n",
              "     width=\"24px\">\n",
              "    <g>\n",
              "        <path d=\"M19 3H5c-1.1 0-2 .9-2 2v14c0 1.1.9 2 2 2h14c1.1 0 2-.9 2-2V5c0-1.1-.9-2-2-2zM9 17H7v-7h2v7zm4 0h-2V7h2v10zm4 0h-2v-4h2v4z\"/>\n",
              "    </g>\n",
              "</svg>\n",
              "  </button>\n",
              "\n",
              "<style>\n",
              "  .colab-df-quickchart {\n",
              "      --bg-color: #E8F0FE;\n",
              "      --fill-color: #1967D2;\n",
              "      --hover-bg-color: #E2EBFA;\n",
              "      --hover-fill-color: #174EA6;\n",
              "      --disabled-fill-color: #AAA;\n",
              "      --disabled-bg-color: #DDD;\n",
              "  }\n",
              "\n",
              "  [theme=dark] .colab-df-quickchart {\n",
              "      --bg-color: #3B4455;\n",
              "      --fill-color: #D2E3FC;\n",
              "      --hover-bg-color: #434B5C;\n",
              "      --hover-fill-color: #FFFFFF;\n",
              "      --disabled-bg-color: #3B4455;\n",
              "      --disabled-fill-color: #666;\n",
              "  }\n",
              "\n",
              "  .colab-df-quickchart {\n",
              "    background-color: var(--bg-color);\n",
              "    border: none;\n",
              "    border-radius: 50%;\n",
              "    cursor: pointer;\n",
              "    display: none;\n",
              "    fill: var(--fill-color);\n",
              "    height: 32px;\n",
              "    padding: 0;\n",
              "    width: 32px;\n",
              "  }\n",
              "\n",
              "  .colab-df-quickchart:hover {\n",
              "    background-color: var(--hover-bg-color);\n",
              "    box-shadow: 0 1px 2px rgba(60, 64, 67, 0.3), 0 1px 3px 1px rgba(60, 64, 67, 0.15);\n",
              "    fill: var(--button-hover-fill-color);\n",
              "  }\n",
              "\n",
              "  .colab-df-quickchart-complete:disabled,\n",
              "  .colab-df-quickchart-complete:disabled:hover {\n",
              "    background-color: var(--disabled-bg-color);\n",
              "    fill: var(--disabled-fill-color);\n",
              "    box-shadow: none;\n",
              "  }\n",
              "\n",
              "  .colab-df-spinner {\n",
              "    border: 2px solid var(--fill-color);\n",
              "    border-color: transparent;\n",
              "    border-bottom-color: var(--fill-color);\n",
              "    animation:\n",
              "      spin 1s steps(1) infinite;\n",
              "  }\n",
              "\n",
              "  @keyframes spin {\n",
              "    0% {\n",
              "      border-color: transparent;\n",
              "      border-bottom-color: var(--fill-color);\n",
              "      border-left-color: var(--fill-color);\n",
              "    }\n",
              "    20% {\n",
              "      border-color: transparent;\n",
              "      border-left-color: var(--fill-color);\n",
              "      border-top-color: var(--fill-color);\n",
              "    }\n",
              "    30% {\n",
              "      border-color: transparent;\n",
              "      border-left-color: var(--fill-color);\n",
              "      border-top-color: var(--fill-color);\n",
              "      border-right-color: var(--fill-color);\n",
              "    }\n",
              "    40% {\n",
              "      border-color: transparent;\n",
              "      border-right-color: var(--fill-color);\n",
              "      border-top-color: var(--fill-color);\n",
              "    }\n",
              "    60% {\n",
              "      border-color: transparent;\n",
              "      border-right-color: var(--fill-color);\n",
              "    }\n",
              "    80% {\n",
              "      border-color: transparent;\n",
              "      border-right-color: var(--fill-color);\n",
              "      border-bottom-color: var(--fill-color);\n",
              "    }\n",
              "    90% {\n",
              "      border-color: transparent;\n",
              "      border-bottom-color: var(--fill-color);\n",
              "    }\n",
              "  }\n",
              "</style>\n",
              "\n",
              "  <script>\n",
              "    async function quickchart(key) {\n",
              "      const quickchartButtonEl =\n",
              "        document.querySelector('#' + key + ' button');\n",
              "      quickchartButtonEl.disabled = true;  // To prevent multiple clicks.\n",
              "      quickchartButtonEl.classList.add('colab-df-spinner');\n",
              "      try {\n",
              "        const charts = await google.colab.kernel.invokeFunction(\n",
              "            'suggestCharts', [key], {});\n",
              "      } catch (error) {\n",
              "        console.error('Error during call to suggestCharts:', error);\n",
              "      }\n",
              "      quickchartButtonEl.classList.remove('colab-df-spinner');\n",
              "      quickchartButtonEl.classList.add('colab-df-quickchart-complete');\n",
              "    }\n",
              "    (() => {\n",
              "      let quickchartButtonEl =\n",
              "        document.querySelector('#df-282649de-b95f-475d-a860-571062329622 button');\n",
              "      quickchartButtonEl.style.display =\n",
              "        google.colab.kernel.accessAllowed ? 'block' : 'none';\n",
              "    })();\n",
              "  </script>\n",
              "</div>\n",
              "\n",
              "    </div>\n",
              "  </div>\n"
            ],
            "application/vnd.google.colaboratory.intrinsic+json": {
              "type": "dataframe"
            }
          },
          "metadata": {},
          "execution_count": 6
        }
      ],
      "source": [
        "df_x_train.describe()"
      ]
    },
    {
      "cell_type": "code",
      "execution_count": null,
      "metadata": {
        "colab": {
          "base_uri": "https://localhost:8080/"
        },
        "id": "NQMmD9yz761Q",
        "outputId": "2bfac835-f3fe-478d-953c-19ac8601f055"
      },
      "outputs": [
        {
          "output_type": "stream",
          "name": "stdout",
          "text": [
            "Drive already mounted at /content/drive; to attempt to forcibly remount, call drive.mount(\"/content/drive\", force_remount=True).\n"
          ]
        }
      ],
      "source": [
        "from google.colab import drive\n",
        "drive.mount('/content/drive')"
      ]
    },
    {
      "cell_type": "markdown",
      "metadata": {
        "id": "iIZ-bbvgC-Cg"
      },
      "source": [
        "Passo 2: Renomear as colunas corretamente\n",
        "\n",
        "Depois de verificar quantas colunas o DataFrame tem, iremos renomeá-las de acordo com o proposito. O arquivo tem 561 colunas, com uma lista com 561 nomes."
      ]
    },
    {
      "cell_type": "code",
      "execution_count": null,
      "metadata": {
        "colab": {
          "base_uri": "https://localhost:8080/"
        },
        "id": "09HJDalB2Of3",
        "outputId": "a7cfc7e0-58aa-470f-ab71-dff25f2250cf"
      },
      "outputs": [
        {
          "output_type": "stream",
          "name": "stdout",
          "text": [
            "    Coluna1   Coluna2   Coluna3   Coluna4   Coluna5   Coluna6   Coluna7  \\\n",
            "0  0.288585 -0.020294 -0.132905 -0.995279 -0.983111 -0.913526 -0.995112   \n",
            "1  0.278419 -0.016411 -0.123520 -0.998245 -0.975300 -0.960322 -0.998807   \n",
            "2  0.279653 -0.019467 -0.113462 -0.995380 -0.967187 -0.978944 -0.996520   \n",
            "3  0.279174 -0.026201 -0.123283 -0.996091 -0.983403 -0.990675 -0.997099   \n",
            "4  0.276629 -0.016570 -0.115362 -0.998139 -0.980817 -0.990482 -0.998321   \n",
            "\n",
            "    Coluna8   Coluna9  Coluna10  ...  Coluna552  Coluna553  Coluna554  \\\n",
            "0 -0.983185 -0.923527 -0.934724  ...  -0.074323  -0.298676  -0.710304   \n",
            "1 -0.974914 -0.957686 -0.943068  ...   0.158075  -0.595051  -0.861499   \n",
            "2 -0.963668 -0.977469 -0.938692  ...   0.414503  -0.390748  -0.760104   \n",
            "3 -0.982750 -0.989302 -0.938692  ...   0.404573  -0.117290  -0.482845   \n",
            "4 -0.979672 -0.990441 -0.942469  ...   0.087753  -0.351471  -0.699205   \n",
            "\n",
            "   Coluna555  Coluna556  Coluna557  Coluna558  Coluna559  Coluna560  Coluna561  \n",
            "0  -0.112754   0.030400  -0.464761  -0.018446  -0.841247   0.179941  -0.058627  \n",
            "1   0.053477  -0.007435  -0.732626   0.703511  -0.844788   0.180289  -0.054317  \n",
            "2  -0.118559   0.177899   0.100699   0.808529  -0.848933   0.180637  -0.049118  \n",
            "3  -0.036788  -0.012892   0.640011  -0.485366  -0.848649   0.181935  -0.047663  \n",
            "4   0.123320   0.122542   0.693578  -0.615971  -0.847865   0.185151  -0.043892  \n",
            "\n",
            "[5 rows x 561 columns]\n"
          ]
        }
      ],
      "source": [
        "# Se você quer renomear apenas as 3 primeiras colunas (por exemplo, 'Feature1', 'Feature2', 'Feature3')\n",
        "df_x_train.columns = ['Coluna1',] + ['Coluna' + str(i) for i in range(2, df_x_train.shape[1] + 1)]\n",
        "\n",
        "# Verificar se as colunas foram renomeadas corretamente\n",
        "print(df_x_train.head())\n"
      ]
    },
    {
      "cell_type": "code",
      "execution_count": null,
      "metadata": {
        "colab": {
          "base_uri": "https://localhost:8080/"
        },
        "id": "XywghqHq9NiJ",
        "outputId": "f39ed1a7-35fd-4a38-fb8a-72ad85841cf2"
      },
      "outputs": [
        {
          "output_type": "execute_result",
          "data": {
            "text/plain": [
              "(7352, 561)"
            ]
          },
          "metadata": {},
          "execution_count": 9
        }
      ],
      "source": [
        "# Verificando as quantidades de linhas e colunas  do \"df_x_train\"\n",
        "df_x_train.shape"
      ]
    },
    {
      "cell_type": "code",
      "execution_count": null,
      "metadata": {
        "colab": {
          "base_uri": "https://localhost:8080/"
        },
        "id": "oICf_8XFCu3z",
        "outputId": "df50035e-ea31-474a-de07-a519be84b7b6"
      },
      "outputs": [
        {
          "output_type": "execute_result",
          "data": {
            "text/plain": [
              "(2947, 1)"
            ]
          },
          "metadata": {},
          "execution_count": 10
        }
      ],
      "source": [
        "# Verificando as quantidades de linhas e colunas  do \"y_test\"\n",
        "y_test.shape"
      ]
    },
    {
      "cell_type": "markdown",
      "metadata": {
        "id": "pwGt1kK8sK3_"
      },
      "source": [
        "Verificando os valores nulos no data frame"
      ]
    },
    {
      "cell_type": "code",
      "execution_count": null,
      "metadata": {
        "colab": {
          "base_uri": "https://localhost:8080/",
          "height": 458
        },
        "id": "wQfMO7zqsJ13",
        "outputId": "1972ca08-8db1-4128-aa87-a1ea23b0c052"
      },
      "outputs": [
        {
          "output_type": "execute_result",
          "data": {
            "text/plain": [
              "Coluna1      0\n",
              "Coluna2      0\n",
              "Coluna3      0\n",
              "Coluna4      0\n",
              "Coluna5      0\n",
              "            ..\n",
              "Coluna557    0\n",
              "Coluna558    0\n",
              "Coluna559    0\n",
              "Coluna560    0\n",
              "Coluna561    0\n",
              "Length: 561, dtype: int64"
            ],
            "text/html": [
              "<div>\n",
              "<style scoped>\n",
              "    .dataframe tbody tr th:only-of-type {\n",
              "        vertical-align: middle;\n",
              "    }\n",
              "\n",
              "    .dataframe tbody tr th {\n",
              "        vertical-align: top;\n",
              "    }\n",
              "\n",
              "    .dataframe thead th {\n",
              "        text-align: right;\n",
              "    }\n",
              "</style>\n",
              "<table border=\"1\" class=\"dataframe\">\n",
              "  <thead>\n",
              "    <tr style=\"text-align: right;\">\n",
              "      <th></th>\n",
              "      <th>0</th>\n",
              "    </tr>\n",
              "  </thead>\n",
              "  <tbody>\n",
              "    <tr>\n",
              "      <th>Coluna1</th>\n",
              "      <td>0</td>\n",
              "    </tr>\n",
              "    <tr>\n",
              "      <th>Coluna2</th>\n",
              "      <td>0</td>\n",
              "    </tr>\n",
              "    <tr>\n",
              "      <th>Coluna3</th>\n",
              "      <td>0</td>\n",
              "    </tr>\n",
              "    <tr>\n",
              "      <th>Coluna4</th>\n",
              "      <td>0</td>\n",
              "    </tr>\n",
              "    <tr>\n",
              "      <th>Coluna5</th>\n",
              "      <td>0</td>\n",
              "    </tr>\n",
              "    <tr>\n",
              "      <th>...</th>\n",
              "      <td>...</td>\n",
              "    </tr>\n",
              "    <tr>\n",
              "      <th>Coluna557</th>\n",
              "      <td>0</td>\n",
              "    </tr>\n",
              "    <tr>\n",
              "      <th>Coluna558</th>\n",
              "      <td>0</td>\n",
              "    </tr>\n",
              "    <tr>\n",
              "      <th>Coluna559</th>\n",
              "      <td>0</td>\n",
              "    </tr>\n",
              "    <tr>\n",
              "      <th>Coluna560</th>\n",
              "      <td>0</td>\n",
              "    </tr>\n",
              "    <tr>\n",
              "      <th>Coluna561</th>\n",
              "      <td>0</td>\n",
              "    </tr>\n",
              "  </tbody>\n",
              "</table>\n",
              "<p>561 rows × 1 columns</p>\n",
              "</div><br><label><b>dtype:</b> int64</label>"
            ]
          },
          "metadata": {},
          "execution_count": 11
        }
      ],
      "source": [
        "#identificar o valores nulos no date frame\n",
        "df_x_train.isnull().sum()"
      ]
    },
    {
      "cell_type": "markdown",
      "metadata": {
        "id": "5vrlNKc--Ls-"
      },
      "source": [
        "# Visualisando os oultiers com bloxplot ⛵\n",
        "\n"
      ]
    },
    {
      "cell_type": "markdown",
      "metadata": {
        "id": "CjNL-1RclMTT"
      },
      "source": [
        "O boxplot é uma ferramenta gráfica amplamente utilizada para a identificação de outliers e a análise da distribuição de dados. Ele oferece uma visualização clara, concisa e intuitiva da dispersão, centralidade e presença de valores extremos em um conjunto de dados, sendo necessária na etapa de análise exploratória."
      ]
    },
    {
      "cell_type": "code",
      "execution_count": null,
      "metadata": {
        "id": "XdgfWCzd0xmD"
      },
      "outputs": [],
      "source": [
        "import matplotlib.pyplot as plt\n",
        "import seaborn as sns\n",
        "import numpy as np\n",
        "\n",
        "# # Seleciona colunas numéricas com mais de 2 valores únicos\n",
        "# #colunas_numericas = df_x_train.select_dtypes(include=[np.number]).columns\n",
        "# #colunas_numericas = [col for col in colunas_numericas if df_x_train[col].nunique() > 2]\n",
        "\n",
        "# # Lista para armazenar as porcentagens de outliers\n",
        "# percentuais_outliers = []\n",
        "\n",
        "# # Define o número de colunas por figura\n",
        "# cols_per_fig = 3\n",
        "\n",
        "# if colunas_numericas:\n",
        "#     for i in range(0, len(colunas_numericas), cols_per_fig):\n",
        "#         cols_group = colunas_numericas[i:i + cols_per_fig]\n",
        "\n",
        "#         # Cria a figura para o grupo atual de colunas\n",
        "#         plt.figure(figsize=(8, len(cols_group) * 5))\n",
        "\n",
        "#         for j, col in enumerate(cols_group, 1):\n",
        "#             plt.subplot(len(cols_group), 1, j)\n",
        "\n",
        "#             # Calcula os outliers usando a regra do IQR\n",
        "#             q1 = df_x_train[col].quantile(0.25)\n",
        "#             q3 = df_x_train[col].quantile(0.75)\n",
        "#             iqr = q3 - q1\n",
        "#             lim_inf = q1 - 1.5 * iqr\n",
        "#             lim_sup = q3 + 1.5 * iqr\n",
        "#             outliers = df_x_train[(df_x_train[col] < lim_inf) | (df_x_train[col] > lim_sup)]\n",
        "#             perc_outliers = len(outliers) / len(df_x_train[col]) * 100\n",
        "#             percentuais_outliers.append(perc_outliers)\n",
        "\n",
        "#             # Plotagem do boxplot\n",
        "#             sns.boxplot(x=df_x_train[col])\n",
        "#             plt.title(f'Boxplot de {col} - {perc_outliers:.2f}% Outliers')\n",
        "#             plt.xlabel(f'{col}')\n",
        "\n",
        "#         plt.tight_layout(h_pad=2)\n",
        "#         plt.show()\n",
        "\n",
        "#     # Exibe o histograma da distribuição de percentuais de outliers\n",
        "#     plt.figure(figsize=(10, 6))\n",
        "#     sns.histplot(percentuais_outliers, bins=10, kde=True)\n",
        "#     plt.title(\"Distribuição dos Percentuais de Outliers\")\n",
        "#     plt.xlabel(\"Percentual de Outliers (%)\")\n",
        "#     plt.ylabel(\"Frequência\")\n",
        "#     plt.show()\n",
        "\n",
        "# else:\n",
        "#     print(\"Nenhuma coluna numérica encontrada para visualização.\")\n"
      ]
    },
    {
      "cell_type": "markdown",
      "metadata": {
        "id": "ncz6y-kZfyX_"
      },
      "source": [
        "\n",
        "Após a aplicação do boxplot , foi possível identificar a presença de outliers destacados como pontos isolados nos gráficos. Essa análise visual reforça a necessidade de um tratamento adequado para os outliers, de modo a minimizar seu impacto na qualidade dos dados e no desempenho dos modelos, garantindo maior confiabilidade nas análises subsequentes."
      ]
    },
    {
      "cell_type": "markdown",
      "metadata": {
        "id": "Hp7TyO2PpW0f"
      },
      "source": [
        "# Correção de Outliers 🤏"
      ]
    },
    {
      "cell_type": "markdown",
      "metadata": {
        "id": "xxHKSX-SUWxG"
      },
      "source": [
        "Winsorização (Limitar os Outliers):\n",
        "\n",
        "Em vez de remover os outliers, você pode limitar seus valores ao percentil mais extremo aceitável (ex: 5º e 95º percentil), mantendo os dados, mas reduzindo o impacto dos outliers extremos.\n",
        "\n"
      ]
    },
    {
      "cell_type": "code",
      "execution_count": null,
      "metadata": {
        "colab": {
          "base_uri": "https://localhost:8080/"
        },
        "id": "Ds8wwd-h2rwk",
        "outputId": "692fe4e5-2cd3-486a-bcc4-1909b8a8fa5d"
      },
      "outputs": [
        {
          "output_type": "stream",
          "name": "stdout",
          "text": [
            "DataFrame original:\n",
            "[[ 0.28858451 -0.05528138 -0.17327756 ... -0.84124676  0.33239179\n",
            "  -0.05862692]\n",
            " [ 0.17814798  0.0177493  -0.17327756 ... -0.8447876   0.33239179\n",
            "  -0.05431672]\n",
            " [ 0.17814798 -0.01946716 -0.11346169 ... -0.84893347  0.33239179\n",
            "  -0.04911782]\n",
            " ...\n",
            " [ 0.17814798 -0.01701062 -0.0475159  ... -0.77913261  0.33239179\n",
            "   0.29155578]\n",
            " [ 0.28965416 -0.01884304 -0.17327756 ... -0.78518142  0.33239179\n",
            "   0.29155578]\n",
            " [ 0.37470809  0.0177493  -0.17327756 ... -0.78326693  0.33239179\n",
            "   0.29155578]]\n",
            "\n",
            "DataFrame após Winsorização:\n",
            "       Coluna1   Coluna2   Coluna3   Coluna4   Coluna5   Coluna6   Coluna7  \\\n",
            "0     0.288585 -0.020294 -0.132905 -0.995279 -0.983111 -0.913526 -0.995112   \n",
            "1     0.278419 -0.016411 -0.123520 -0.998245 -0.975300 -0.960322 -0.998807   \n",
            "2     0.279653 -0.019467 -0.113462 -0.995380 -0.967187 -0.978944 -0.996520   \n",
            "3     0.279174 -0.026201 -0.123283 -0.996091 -0.983403 -0.990675 -0.997099   \n",
            "4     0.276629 -0.016570 -0.115362 -0.998139 -0.980817 -0.990482 -0.998321   \n",
            "...        ...       ...       ...       ...       ...       ...       ...   \n",
            "7347  0.299665 -0.057193 -0.181233 -0.195387  0.039905  0.077078 -0.282301   \n",
            "7348  0.273853 -0.007749 -0.147468 -0.235309  0.004816  0.059280 -0.322552   \n",
            "7349  0.273387 -0.017011 -0.045022 -0.218218 -0.103822  0.274533 -0.304515   \n",
            "7350  0.289654 -0.018843 -0.158281 -0.219139 -0.111412  0.268893 -0.310487   \n",
            "7351  0.351503 -0.012423 -0.203867 -0.269270 -0.087212  0.177404 -0.377404   \n",
            "\n",
            "       Coluna8   Coluna9  Coluna10  ...  Coluna552  Coluna553  Coluna554  \\\n",
            "0    -0.983185 -0.923527 -0.934724  ...  -0.074323  -0.298676  -0.710304   \n",
            "1    -0.974914 -0.957686 -0.943068  ...   0.158075  -0.595051  -0.861499   \n",
            "2    -0.963668 -0.977469 -0.938692  ...   0.414503  -0.390748  -0.760104   \n",
            "3    -0.982750 -0.989302 -0.938692  ...   0.404573  -0.117290  -0.482845   \n",
            "4    -0.979672 -0.990441 -0.942469  ...   0.087753  -0.351471  -0.699205   \n",
            "...        ...       ...       ...  ...        ...        ...        ...   \n",
            "7347  0.043616  0.060410  0.210795  ...  -0.070157  -0.588433  -0.880324   \n",
            "7348 -0.029456  0.080585  0.117440  ...   0.165259  -0.390738  -0.680744   \n",
            "7349 -0.098913  0.332584  0.043999  ...   0.195034   0.025145  -0.304029   \n",
            "7350 -0.068200  0.319473  0.101702  ...   0.013865   0.063907  -0.344314   \n",
            "7351 -0.038678  0.229430  0.269013  ...  -0.058402  -0.387052  -0.740738   \n",
            "\n",
            "      Coluna555  Coluna556  Coluna557  Coluna558  Coluna559  Coluna560  \\\n",
            "0     -0.112754   0.030400  -0.464761  -0.018446  -0.841247   0.179941   \n",
            "1      0.053477  -0.007435  -0.732626   0.703511  -0.844788   0.180289   \n",
            "2     -0.118559   0.177899   0.100699   0.808529  -0.848933   0.180637   \n",
            "3     -0.036788  -0.012892   0.640011  -0.485366  -0.848649   0.181935   \n",
            "4      0.123320   0.122542   0.693578  -0.615971  -0.847865   0.185151   \n",
            "...         ...        ...        ...        ...        ...        ...   \n",
            "7347  -0.190437   0.829718   0.206972  -0.425619  -0.791883   0.238604   \n",
            "7348   0.064907   0.875679  -0.879033   0.400219  -0.771840   0.252676   \n",
            "7349   0.052806  -0.266724   0.864404   0.701169  -0.779133   0.249145   \n",
            "7350  -0.101360   0.700740   0.936674  -0.589479  -0.785181   0.246432   \n",
            "7351  -0.280088  -0.007739  -0.056088  -0.616956  -0.783267   0.246809   \n",
            "\n",
            "      Coluna561  \n",
            "0     -0.058627  \n",
            "1     -0.054317  \n",
            "2     -0.049118  \n",
            "3     -0.047663  \n",
            "4     -0.043892  \n",
            "...         ...  \n",
            "7347   0.049819  \n",
            "7348   0.050053  \n",
            "7349   0.040811  \n",
            "7350   0.025339  \n",
            "7351   0.036695  \n",
            "\n",
            "[7352 rows x 561 columns]\n"
          ]
        }
      ],
      "source": [
        "#Aplicando a técnica da Winsorização\n",
        "from scipy.stats import zscore\n",
        "\n",
        "z_scores = zscore(df_x_train)\n",
        "X_train_sem_out = df_x_train.copy() #criando um data frame\n",
        "\n",
        "\n",
        "# Definir os percentis para Winsorização\n",
        "lower_percentile = df_x_train.quantile(0.05) # os ultimos 5%\n",
        "upper_percentile = df_x_train.quantile(0.95)  # os ultimos 95%\n",
        "\n",
        "# Aplicar Winsorização a cada coluna\n",
        "df_x_train = np.where(z_scores > upper_percentile , upper_percentile , df_x_train) # depois modificar o X_train_sem_out\n",
        "df_x_train = np.where(z_scores < lower_percentile, lower_percentile, df_x_train)\n",
        "\n",
        "# Exibir resultados\n",
        "print(\"DataFrame original:\")\n",
        "print(df_x_train)\n",
        "print(\"\\nDataFrame após Winsorização:\")\n",
        "print(X_train_sem_out)"
      ]
    },
    {
      "cell_type": "markdown",
      "metadata": {
        "id": "zm1J9smx13KS"
      },
      "source": [
        "# Feature Engineering 🛠️\n",
        "\n",
        "Vamos normalizar os dados..."
      ]
    },
    {
      "cell_type": "markdown",
      "metadata": {
        "id": "yaoc9mbaEENZ"
      },
      "source": [
        "Antes de aplicar o k-means, você precisa garantir que os dados estejam prontos. Isso inclui:\n",
        "\n",
        "Normalização ou padronização dos dados: O k-means usa distâncias euclidianas, então é importante que todas as variáveis tenham a mesma escala. Para isso, você pode usar a normalização ou padronização.\n",
        "\n",
        "O RobustScaler remove a mediana e escala os dados de acordo com o intervalo interquartil, tornando-o útil quando os dados contêm muitos outliers, garantindo mais representatividade dos dados.\n",
        "\n",
        "Preservação da forma da distribuição: O RobustScaler tende a manter a forma original da distribuição dos dados de maneira mais fiel, mesmo na presença de valores extremos. Isso é importante para muitos algoritmos de aprendizado de máquina que assumem distribuições específicas.\n"
      ]
    },
    {
      "cell_type": "code",
      "execution_count": null,
      "metadata": {
        "id": "ZkD2Da7gD7Jw"
      },
      "outputs": [],
      "source": [
        "from sklearn.preprocessing import RobustScaler\n",
        "\n",
        "scaler = RobustScaler()\n",
        "X_scaled = scaler.fit_transform(df_x_train)\n",
        "\n"
      ]
    },
    {
      "cell_type": "markdown",
      "metadata": {
        "id": "QkiTtY7JBuU4"
      },
      "source": [
        "## Aplicação do PCA\n",
        "\n",
        "Para verificar como os dados estão distribuídos entre os clusters, você pode visualizar os resultados, especialmente se estiver lidando com uma redução de dimensionalidade (como o PCA).\n",
        "\n",
        "Para reduzir a dimensionalidade do conjunto de dados, que possui muitas dimensões e pode dificultar a identificação de clusters significativos, aplicaremos o PCA (Análise de Componentes Principais). Essa técnica reduz a dimensionalidade, preservando a maior parte da variabilidade dos dados e melhorando a eficiência computacional do K-Means. Em seguida, utilizaremos o PCA para projetar os dados em 2D, permitindo a visualização dos clusters da seguinte forma:"
      ]
    },
    {
      "cell_type": "code",
      "execution_count": null,
      "metadata": {
        "id": "IvNk479TBZvQ"
      },
      "outputs": [],
      "source": [
        "from sklearn.decomposition import PCA\n",
        "\n",
        "# Aplicando PCA para reduzir para 2 dimensões\n",
        "pca = PCA(n_components=2)\n",
        "X_pca = pca.fit_transform(X_scaled)  # X_scaled é o seu conjunto de dados já normalizado"
      ]
    },
    {
      "cell_type": "markdown",
      "metadata": {
        "id": "ZHDV2e79EJeX"
      },
      "source": []
    },
    {
      "cell_type": "markdown",
      "metadata": {
        "id": "OMTikq21lfjv"
      },
      "source": [
        "# Escolher o número de clusters (K)📈\n",
        "\n",
        "Uma etapa crucial no K-Means é determinar o número ideal de clusters. Para isso, utilizaremos o Método do Cotovelo (Elbow Method), uma técnica amplamente empregada para identificar o valor mais adequado de K. Então vamos aplicar da seguinte forma:"
      ]
    },
    {
      "cell_type": "code",
      "execution_count": null,
      "metadata": {
        "colab": {
          "base_uri": "https://localhost:8080/",
          "height": 472
        },
        "id": "-gJDLDoxEFrl",
        "outputId": "e00f5cc4-6028-4486-94c7-48f21d1cc7c7"
      },
      "outputs": [
        {
          "output_type": "display_data",
          "data": {
            "text/plain": [
              "<Figure size 640x480 with 1 Axes>"
            ],
            "image/png": "[encoded data removed]"
          },
          "metadata": {}
        }
      ],
      "source": [
        "# Método do Cotovelo\n",
        "inertia = []\n",
        "for k in range(1, 11):  # Testando k de 1 até 10\n",
        "    kmeans = KMeans(n_clusters=k, random_state=42)\n",
        "    kmeans.fit(X_pca)\n",
        "    inertia.append(kmeans.inertia_)\n",
        "\n",
        "plt.plot(range(1, 11), inertia, marker='o')\n",
        "plt.title('Método do Cotovelo')\n",
        "plt.xlabel('Número de Clusters (k)')\n",
        "plt.ylabel('Inércia')\n",
        "plt.show()\n"
      ]
    },
    {
      "cell_type": "markdown",
      "metadata": {
        "id": "6KOLzSgrmFZo"
      },
      "source": [
        "# Testando os valores de Silhouette Score para diferentes valores de K\n",
        "O objetivo de testar os valores do Silhouette Score para diferentes valores de K é avaliar a qualidade dos clusters gerados pelo algoritmo K-Means e determinar o número ideal de clusters (K)."
      ]
    },
    {
      "cell_type": "code",
      "execution_count": null,
      "metadata": {
        "colab": {
          "base_uri": "https://localhost:8080/",
          "height": 599
        },
        "id": "oaN3G9AU1mvV",
        "outputId": "f49852de-202e-4351-e3f5-7952b4087968"
      },
      "outputs": [
        {
          "output_type": "display_data",
          "data": {
            "text/plain": [
              "<Figure size 800x600 with 1 Axes>"
            ],
            "image/png": "[encoded data removed]"
          },
          "metadata": {}
        },
        {
          "output_type": "stream",
          "name": "stdout",
          "text": [
            "\n",
            "Número ideal de clusters com base no Silhouette Score: K=7\n"
          ]
        }
      ],
      "source": [
        "# Defina o intervalo de valores de K para testar\n",
        "K_range = range(2, 20)\n",
        "\n",
        "silhouette_scores = []  # Lista para armazenar os scores\n",
        "\n",
        "# Loop sobre os diferentes valores de K\n",
        "for k in K_range:\n",
        "    kmeans = KMeans(n_clusters=k, random_state=42,n_init=30)\n",
        "    kmeans.fit(X_pca)  # Ajusta o modelo com seus dados (X_pca_df)\n",
        "\n",
        "    # Calculando o Silhouette Score\n",
        "    score = silhouette_score(X_pca, kmeans.labels_)\n",
        "    silhouette_scores.append(score)\n",
        "\n",
        "# Verifique se a lista silhouette_score\n",
        "# Plotar o Silhouette Score em função de K\n",
        "plt.figure(figsize=(8, 6))\n",
        "plt.plot(K_range, silhouette_scores, '-o')\n",
        "plt.title(\"Silhouette Score para diferentes valores de K\")\n",
        "plt.xlabel(\"Número de Clusters (K)\")\n",
        "plt.ylabel(\"Silhouette Score\")\n",
        "plt.show()\n",
        "\n",
        "# Determinar o valor de K com maior Silhouette Score\n",
        "best_k = K_range[np.argmax(silhouette_scores)]\n",
        "print(f\"\\nNúmero ideal de clusters com base no Silhouette Score: K={best_k}\")"
      ]
    },
    {
      "cell_type": "markdown",
      "metadata": {
        "id": "sH1p8FVgEYIj"
      },
      "source": [
        "# Treinar o modelo K-Means\n",
        "Depois de determinar o número ideal de clusters (k), vamos aplicar o k-means:"
      ]
    },
    {
      "cell_type": "code",
      "execution_count": null,
      "metadata": {
        "id": "0tfYIJ2lEU0E"
      },
      "outputs": [],
      "source": [
        "# Supondo que você tenha escolhido k=7 após o método do cotovelo\n",
        "kmeans = KMeans(n_clusters=7, random_state=42)\n",
        "kmeans.fit(X_pca)\n",
        "\n",
        "# Obter os rótulos dos clusters (que dizem a qual cluster cada ponto pertence)\n",
        "labels = kmeans.labels_\n",
        "\n",
        "# Obter os centróides dos clusters\n",
        "centroids = kmeans.cluster_centers_\n"
      ]
    },
    {
      "cell_type": "markdown",
      "metadata": {
        "id": "OHvViPZmHcgm"
      },
      "source": [
        "Agora labels contém as informações sobre a qual cluster cada ponto pertence, e centroids contém as coordenadas dos centróides dos clusters no espaço reduzido."
      ]
    },
    {
      "cell_type": "markdown",
      "metadata": {
        "id": "Jt63AXkaHfy7"
      },
      "source": [
        "# Visualizar os clusters no gráfico\n",
        "\n",
        "Agora que temos os dados em duas dimensões (no espaço 2D), podemos criar um gráfico para visualizar como os clusters estão distribuídos."
      ]
    },
    {
      "cell_type": "code",
      "execution_count": null,
      "metadata": {
        "colab": {
          "base_uri": "https://localhost:8080/",
          "height": 564
        },
        "id": "ys6dLvlJHhQv",
        "outputId": "1739d97f-0cd2-48b5-8615-fb7c6227790c"
      },
      "outputs": [
        {
          "output_type": "display_data",
          "data": {
            "text/plain": [
              "<Figure size 800x600 with 1 Axes>"
            ],
            "image/png": "[encoded data removed]"
          },
          "metadata": {}
        }
      ],
      "source": [
        "import matplotlib.pyplot as plt\n",
        "\n",
        "# Plotando os clusters\n",
        "plt.figure(figsize=(8, 6))\n",
        "plt.scatter(X_pca[:, 0], X_pca[:, 1], c=labels, cmap='viridis', s=50, alpha=0.7)\n",
        "\n",
        "# Plotando os centróides\n",
        "plt.scatter(centroids[:, 0], centroids[:, 1], s=200, c='red', marker='X', label='Centróides')\n",
        "\n",
        "# Adicionando título e legendas\n",
        "plt.title('Visualização dos Clusters com PCA 2D K=7')\n",
        "plt.xlabel('PCA 1')\n",
        "plt.ylabel('PCA 2')\n",
        "plt.legend()\n",
        "plt.show()\n"
      ]
    },
    {
      "cell_type": "markdown",
      "metadata": {
        "id": "Odb8j8CfHxjg"
      },
      "source": [
        "Interpretação dos resultados\n",
        "\n",
        "Agora, ao observar o gráfico, você poderá ver a distribuição dos pontos de dados, agrupados em clusters, e os centróides de cada cluster.\n",
        "\n",
        "Cores diferentes indicam diferentes clusters.\n",
        "Centróides (marcados com 'X') mostram o centro de cada grupo de pontos.\n",
        "Essa visualização ajudará a interpretar como os dados estão agrupados e a verificar se o k-means fez um bom trabalho na divisão dos dados."
      ]
    },
    {
      "cell_type": "markdown",
      "metadata": {
        "id": "ZiXMPlBhH4bJ"
      },
      "source": [
        "## Treinar o modelo K-Means"
      ]
    },
    {
      "cell_type": "markdown",
      "metadata": {
        "id": "1YdqdN38IbRF"
      },
      "source": [
        "O Silhouette Score é uma das métricas mais comuns para avaliar a qualidade do clustering. Ele mede o quão bem cada ponto está posicionado dentro de seu próprio cluster em comparação com outros clusters. O valor varia de -1 a +1:\n",
        "\n",
        "+1: Os pontos estão bem agrupados.\n",
        "\n",
        "0: Os pontos estão na fronteira de dois clusters.\n",
        "\n",
        "-1: Os pontos estão mal agrupados."
      ]
    },
    {
      "cell_type": "code",
      "execution_count": null,
      "metadata": {
        "colab": {
          "base_uri": "https://localhost:8080/"
        },
        "id": "ctCUnElEIfJx",
        "outputId": "972a9e06-03e1-446c-84fd-54f1e68d0aca"
      },
      "outputs": [
        {
          "output_type": "stream",
          "name": "stdout",
          "text": [
            "Silhouette Score: 0.8505842339695653\n"
          ]
        }
      ],
      "source": [
        "from sklearn.metrics import silhouette_score\n",
        "\n",
        "# Calcular o Silhouette Score do K=7\n",
        "sil_score = silhouette_score(X_pca, labels)\n",
        "print(f\"Silhouette Score: {sil_score}\")\n"
      ]
    },
    {
      "cell_type": "markdown",
      "metadata": {
        "id": "OJh7CRcBInWE"
      },
      "source": [
        "Inércia (Within-Cluster Sum of Squares)\n",
        "A inércia é outra métrica importante. Ela mede a soma das distâncias quadradas entre os pontos e seus centróides dentro de cada cluster. A inércia é útil para verificar a qualidade do agrupamento em termos de coesão interna (quanto os pontos de um cluster estão próximos uns dos outros).\n",
        "\n",
        "Quanto menor a inércia, melhor o agrupamento.\n",
        "No entanto, a inércia diminui à medida que você aumenta o número de clusters. Por isso, é importante combinar com o Método do Cotovelo para escolher o número ideal de clusters."
      ]
    },
    {
      "cell_type": "code",
      "execution_count": null,
      "metadata": {
        "colab": {
          "base_uri": "https://localhost:8080/"
        },
        "id": "IoJ0nD5SIoYo",
        "outputId": "fa4ccf17-15b3-4889-a82f-421d42b6680e"
      },
      "outputs": [
        {
          "output_type": "stream",
          "name": "stdout",
          "text": [
            "Inércia: 19081.31435583407\n"
          ]
        }
      ],
      "source": [
        "# Calcular a inércia K = 7\n",
        "inertia = kmeans.inertia_\n",
        "print(f\"Inércia: {inertia}\")\n"
      ]
    },
    {
      "cell_type": "markdown",
      "source": [
        "# Índice Rand\n",
        "O Rand Index compara a similaridade entre dois agrupamentos. Ele é mais útil quando você tem rótulos verdadeiros (ground Truth), ou seja, se sabe qual é o cluster correto para cada ponto."
      ],
      "metadata": {
        "id": "gLBFhfcYnQXx"
      }
    },
    {
      "cell_type": "code",
      "source": [
        "from sklearn.metrics import adjusted_rand_score\n",
        "\n",
        "\n",
        "# Supondo que você tenha rótulos verdadeiros (y_true)\n",
        "rand_index = adjusted_rand_score(y_test, labels)\n",
        "print(f\"Rand Index: {rand_index}\")\n"
      ],
      "metadata": {
        "colab": {
          "base_uri": "https://localhost:8080/",
          "height": 356
        },
        "id": "F45O7sPpnLCd",
        "outputId": "4f0013c5-7247-47de-a466-f9f595b0b13b"
      },
      "execution_count": null,
      "outputs": [
        {
          "output_type": "error",
          "ename": "ValueError",
          "evalue": "labels_true must be 1D: shape is (2947, 1)",
          "traceback": [
            "\u001b[0;31m---------------------------------------------------------------------------\u001b[0m",
            "\u001b[0;31mValueError\u001b[0m                                Traceback (most recent call last)",
            "\u001b[0;32m<ipython-input-33-3e86b3aaec22>\u001b[0m in \u001b[0;36m<cell line: 5>\u001b[0;34m()\u001b[0m\n\u001b[1;32m      3\u001b[0m \u001b[0;34m\u001b[0m\u001b[0m\n\u001b[1;32m      4\u001b[0m \u001b[0;31m# Supondo que você tenha rótulos verdadeiros (y_true)\u001b[0m\u001b[0;34m\u001b[0m\u001b[0;34m\u001b[0m\u001b[0m\n\u001b[0;32m----> 5\u001b[0;31m \u001b[0mrand_index\u001b[0m \u001b[0;34m=\u001b[0m \u001b[0madjusted_rand_score\u001b[0m\u001b[0;34m(\u001b[0m\u001b[0my_test\u001b[0m\u001b[0;34m,\u001b[0m \u001b[0mlabels\u001b[0m\u001b[0;34m)\u001b[0m\u001b[0;34m\u001b[0m\u001b[0;34m\u001b[0m\u001b[0m\n\u001b[0m\u001b[1;32m      6\u001b[0m \u001b[0mprint\u001b[0m\u001b[0;34m(\u001b[0m\u001b[0;34mf\"Rand Index: {rand_index}\"\u001b[0m\u001b[0;34m)\u001b[0m\u001b[0;34m\u001b[0m\u001b[0;34m\u001b[0m\u001b[0m\n",
            "\u001b[0;32m/usr/local/lib/python3.10/dist-packages/sklearn/utils/_param_validation.py\u001b[0m in \u001b[0;36mwrapper\u001b[0;34m(*args, **kwargs)\u001b[0m\n\u001b[1;32m    211\u001b[0m                     )\n\u001b[1;32m    212\u001b[0m                 ):\n\u001b[0;32m--> 213\u001b[0;31m                     \u001b[0;32mreturn\u001b[0m \u001b[0mfunc\u001b[0m\u001b[0;34m(\u001b[0m\u001b[0;34m*\u001b[0m\u001b[0margs\u001b[0m\u001b[0;34m,\u001b[0m \u001b[0;34m**\u001b[0m\u001b[0mkwargs\u001b[0m\u001b[0;34m)\u001b[0m\u001b[0;34m\u001b[0m\u001b[0;34m\u001b[0m\u001b[0m\n\u001b[0m\u001b[1;32m    214\u001b[0m             \u001b[0;32mexcept\u001b[0m \u001b[0mInvalidParameterError\u001b[0m \u001b[0;32mas\u001b[0m \u001b[0me\u001b[0m\u001b[0;34m:\u001b[0m\u001b[0;34m\u001b[0m\u001b[0;34m\u001b[0m\u001b[0m\n\u001b[1;32m    215\u001b[0m                 \u001b[0;31m# When the function is just a wrapper around an estimator, we allow\u001b[0m\u001b[0;34m\u001b[0m\u001b[0;34m\u001b[0m\u001b[0m\n",
            "\u001b[0;32m/usr/local/lib/python3.10/dist-packages/sklearn/metrics/cluster/_supervised.py\u001b[0m in \u001b[0;36madjusted_rand_score\u001b[0;34m(labels_true, labels_pred)\u001b[0m\n\u001b[1;32m    442\u001b[0m       \u001b[0;34m-\u001b[0m\u001b[0;36m0.5\u001b[0m\u001b[0;34m\u001b[0m\u001b[0;34m\u001b[0m\u001b[0m\n\u001b[1;32m    443\u001b[0m     \"\"\"\n\u001b[0;32m--> 444\u001b[0;31m     \u001b[0;34m(\u001b[0m\u001b[0mtn\u001b[0m\u001b[0;34m,\u001b[0m \u001b[0mfp\u001b[0m\u001b[0;34m)\u001b[0m\u001b[0;34m,\u001b[0m \u001b[0;34m(\u001b[0m\u001b[0mfn\u001b[0m\u001b[0;34m,\u001b[0m \u001b[0mtp\u001b[0m\u001b[0;34m)\u001b[0m \u001b[0;34m=\u001b[0m \u001b[0mpair_confusion_matrix\u001b[0m\u001b[0;34m(\u001b[0m\u001b[0mlabels_true\u001b[0m\u001b[0;34m,\u001b[0m \u001b[0mlabels_pred\u001b[0m\u001b[0;34m)\u001b[0m\u001b[0;34m\u001b[0m\u001b[0;34m\u001b[0m\u001b[0m\n\u001b[0m\u001b[1;32m    445\u001b[0m     \u001b[0;31m# convert to Python integer types, to avoid overflow or underflow\u001b[0m\u001b[0;34m\u001b[0m\u001b[0;34m\u001b[0m\u001b[0m\n\u001b[1;32m    446\u001b[0m     \u001b[0mtn\u001b[0m\u001b[0;34m,\u001b[0m \u001b[0mfp\u001b[0m\u001b[0;34m,\u001b[0m \u001b[0mfn\u001b[0m\u001b[0;34m,\u001b[0m \u001b[0mtp\u001b[0m \u001b[0;34m=\u001b[0m \u001b[0mint\u001b[0m\u001b[0;34m(\u001b[0m\u001b[0mtn\u001b[0m\u001b[0;34m)\u001b[0m\u001b[0;34m,\u001b[0m \u001b[0mint\u001b[0m\u001b[0;34m(\u001b[0m\u001b[0mfp\u001b[0m\u001b[0;34m)\u001b[0m\u001b[0;34m,\u001b[0m \u001b[0mint\u001b[0m\u001b[0;34m(\u001b[0m\u001b[0mfn\u001b[0m\u001b[0;34m)\u001b[0m\u001b[0;34m,\u001b[0m \u001b[0mint\u001b[0m\u001b[0;34m(\u001b[0m\u001b[0mtp\u001b[0m\u001b[0;34m)\u001b[0m\u001b[0;34m\u001b[0m\u001b[0;34m\u001b[0m\u001b[0m\n",
            "\u001b[0;32m/usr/local/lib/python3.10/dist-packages/sklearn/utils/_param_validation.py\u001b[0m in \u001b[0;36mwrapper\u001b[0;34m(*args, **kwargs)\u001b[0m\n\u001b[1;32m    184\u001b[0m             \u001b[0mglobal_skip_validation\u001b[0m \u001b[0;34m=\u001b[0m \u001b[0mget_config\u001b[0m\u001b[0;34m(\u001b[0m\u001b[0;34m)\u001b[0m\u001b[0;34m[\u001b[0m\u001b[0;34m\"skip_parameter_validation\"\u001b[0m\u001b[0;34m]\u001b[0m\u001b[0;34m\u001b[0m\u001b[0;34m\u001b[0m\u001b[0m\n\u001b[1;32m    185\u001b[0m             \u001b[0;32mif\u001b[0m \u001b[0mglobal_skip_validation\u001b[0m\u001b[0;34m:\u001b[0m\u001b[0;34m\u001b[0m\u001b[0;34m\u001b[0m\u001b[0m\n\u001b[0;32m--> 186\u001b[0;31m                 \u001b[0;32mreturn\u001b[0m \u001b[0mfunc\u001b[0m\u001b[0;34m(\u001b[0m\u001b[0;34m*\u001b[0m\u001b[0margs\u001b[0m\u001b[0;34m,\u001b[0m \u001b[0;34m**\u001b[0m\u001b[0mkwargs\u001b[0m\u001b[0;34m)\u001b[0m\u001b[0;34m\u001b[0m\u001b[0;34m\u001b[0m\u001b[0m\n\u001b[0m\u001b[1;32m    187\u001b[0m \u001b[0;34m\u001b[0m\u001b[0m\n\u001b[1;32m    188\u001b[0m             \u001b[0mfunc_sig\u001b[0m \u001b[0;34m=\u001b[0m \u001b[0msignature\u001b[0m\u001b[0;34m(\u001b[0m\u001b[0mfunc\u001b[0m\u001b[0;34m)\u001b[0m\u001b[0;34m\u001b[0m\u001b[0;34m\u001b[0m\u001b[0m\n",
            "\u001b[0;32m/usr/local/lib/python3.10/dist-packages/sklearn/metrics/cluster/_supervised.py\u001b[0m in \u001b[0;36mpair_confusion_matrix\u001b[0;34m(labels_true, labels_pred)\u001b[0m\n\u001b[1;32m    248\u001b[0m     \u001b[0mNote\u001b[0m \u001b[0mthat\u001b[0m \u001b[0mthe\u001b[0m \u001b[0mmatrix\u001b[0m \u001b[0;32mis\u001b[0m \u001b[0;32mnot\u001b[0m \u001b[0msymmetric\u001b[0m\u001b[0;34m.\u001b[0m\u001b[0;34m\u001b[0m\u001b[0;34m\u001b[0m\u001b[0m\n\u001b[1;32m    249\u001b[0m     \"\"\"\n\u001b[0;32m--> 250\u001b[0;31m     \u001b[0mlabels_true\u001b[0m\u001b[0;34m,\u001b[0m \u001b[0mlabels_pred\u001b[0m \u001b[0;34m=\u001b[0m \u001b[0mcheck_clusterings\u001b[0m\u001b[0;34m(\u001b[0m\u001b[0mlabels_true\u001b[0m\u001b[0;34m,\u001b[0m \u001b[0mlabels_pred\u001b[0m\u001b[0;34m)\u001b[0m\u001b[0;34m\u001b[0m\u001b[0;34m\u001b[0m\u001b[0m\n\u001b[0m\u001b[1;32m    251\u001b[0m     \u001b[0mn_samples\u001b[0m \u001b[0;34m=\u001b[0m \u001b[0mnp\u001b[0m\u001b[0;34m.\u001b[0m\u001b[0mint64\u001b[0m\u001b[0;34m(\u001b[0m\u001b[0mlabels_true\u001b[0m\u001b[0;34m.\u001b[0m\u001b[0mshape\u001b[0m\u001b[0;34m[\u001b[0m\u001b[0;36m0\u001b[0m\u001b[0;34m]\u001b[0m\u001b[0;34m)\u001b[0m\u001b[0;34m\u001b[0m\u001b[0;34m\u001b[0m\u001b[0m\n\u001b[1;32m    252\u001b[0m \u001b[0;34m\u001b[0m\u001b[0m\n",
            "\u001b[0;32m/usr/local/lib/python3.10/dist-packages/sklearn/metrics/cluster/_supervised.py\u001b[0m in \u001b[0;36mcheck_clusterings\u001b[0;34m(labels_true, labels_pred)\u001b[0m\n\u001b[1;32m     68\u001b[0m     \u001b[0;31m# input checks\u001b[0m\u001b[0;34m\u001b[0m\u001b[0;34m\u001b[0m\u001b[0m\n\u001b[1;32m     69\u001b[0m     \u001b[0;32mif\u001b[0m \u001b[0mlabels_true\u001b[0m\u001b[0;34m.\u001b[0m\u001b[0mndim\u001b[0m \u001b[0;34m!=\u001b[0m \u001b[0;36m1\u001b[0m\u001b[0;34m:\u001b[0m\u001b[0;34m\u001b[0m\u001b[0;34m\u001b[0m\u001b[0m\n\u001b[0;32m---> 70\u001b[0;31m         \u001b[0;32mraise\u001b[0m \u001b[0mValueError\u001b[0m\u001b[0;34m(\u001b[0m\u001b[0;34m\"labels_true must be 1D: shape is %r\"\u001b[0m \u001b[0;34m%\u001b[0m \u001b[0;34m(\u001b[0m\u001b[0mlabels_true\u001b[0m\u001b[0;34m.\u001b[0m\u001b[0mshape\u001b[0m\u001b[0;34m,\u001b[0m\u001b[0;34m)\u001b[0m\u001b[0;34m)\u001b[0m\u001b[0;34m\u001b[0m\u001b[0;34m\u001b[0m\u001b[0m\n\u001b[0m\u001b[1;32m     71\u001b[0m     \u001b[0;32mif\u001b[0m \u001b[0mlabels_pred\u001b[0m\u001b[0;34m.\u001b[0m\u001b[0mndim\u001b[0m \u001b[0;34m!=\u001b[0m \u001b[0;36m1\u001b[0m\u001b[0;34m:\u001b[0m\u001b[0;34m\u001b[0m\u001b[0;34m\u001b[0m\u001b[0m\n\u001b[1;32m     72\u001b[0m         \u001b[0;32mraise\u001b[0m \u001b[0mValueError\u001b[0m\u001b[0;34m(\u001b[0m\u001b[0;34m\"labels_pred must be 1D: shape is %r\"\u001b[0m \u001b[0;34m%\u001b[0m \u001b[0;34m(\u001b[0m\u001b[0mlabels_pred\u001b[0m\u001b[0;34m.\u001b[0m\u001b[0mshape\u001b[0m\u001b[0;34m,\u001b[0m\u001b[0;34m)\u001b[0m\u001b[0;34m)\u001b[0m\u001b[0;34m\u001b[0m\u001b[0;34m\u001b[0m\u001b[0m\n",
            "\u001b[0;31mValueError\u001b[0m: labels_true must be 1D: shape is (2947, 1)"
          ]
        }
      ]
    },
    {
      "cell_type": "code",
      "source": [
        "from sklearn.metrics import adjusted_rand_score\n",
        "\n",
        "print(f\"Tamanho de y_test: {len(y_test)}\")\n",
        "print(f\"Tamanho de labels: {len(labels)}\")\n",
        "\n"
      ],
      "metadata": {
        "colab": {
          "base_uri": "https://localhost:8080/"
        },
        "id": "sX_ZeFdoxmie",
        "outputId": "c1116d2f-0ecd-42e3-8596-4e16951c21d2"
      },
      "execution_count": null,
      "outputs": [
        {
          "output_type": "stream",
          "name": "stdout",
          "text": [
            "Tamanho de y_test: 2947\n",
            "Tamanho de labels: 7352\n"
          ]
        }
      ]
    },
    {
      "cell_type": "markdown",
      "source": [
        "# Índice Calinski-Harabasz\n",
        "\n",
        "Essa métrica calcula a razão entre a dispersão entre os clusters e a dispersão dentro dos clusters. Um valor maior indica um agrupamento melhor."
      ],
      "metadata": {
        "id": "cwbOfwdTmORT"
      }
    },
    {
      "cell_type": "code",
      "source": [
        "from sklearn.metrics import calinski_harabasz_score\n",
        "\n",
        "# Calcular o Calinski-Harabasz Index\n",
        "ch_score = calinski_harabasz_score(X_pca, labels)\n",
        "print(f\"Calinski-Harabasz Index: {ch_score}\")\n"
      ],
      "metadata": {
        "colab": {
          "base_uri": "https://localhost:8080/"
        },
        "id": "VODkKo2Wl-R3",
        "outputId": "6b29a8cc-e7f6-49a9-a5da-deb030ce114e"
      },
      "execution_count": null,
      "outputs": [
        {
          "output_type": "stream",
          "name": "stdout",
          "text": [
            "Calinski-Harabasz Index: 67493.06756904899\n"
          ]
        }
      ]
    },
    {
      "cell_type": "markdown",
      "metadata": {
        "id": "zZwyNE34P4Sg"
      },
      "source": [
        "# Análise dos Resultados"
      ]
    },
    {
      "cell_type": "markdown",
      "metadata": {
        "id": "jXO9UWf1P9BY"
      },
      "source": [
        "Análise dos Resultados do Modelo K-Means\n",
        "Os resultados obtidos para o modelo K-Means indicam uma configuração de alto desempenho no agrupamento dos dados, considerando as análises avaliadas. A seguir, detalhamos cada uma dessas considerações e seus significados relevantes:\n",
        "\n",
        "1. Número Ideal de Clusters (K = 7)\n",
        "\n",
        "O número K=7 foi definido como ideal com base no Silhouette Score , refletindo a estrutura natural dos dados. Essa escolha demonstra que a divisão em sete agrupamentos fornece o melhor equilíbrio entre a coesão interna e a separação entre os clusters. Essa configuração é indicativa de uma estrutura subjacente clara nos dados, o que é fundamental para análises interpretativas e decisões estabelecidas nos agrupamentos.\n",
        "2. Pontuação da silhueta: 0,8506\n",
        "O Silhouette Score é uma métrica de avaliação que varia de -1 a 1 e mede a qualidade do agrupamento considerando:\n",
        "\n",
        "Coesão interna : A proximidade dos pontos dentro de cada cluster.\n",
        "Separação intercluster : A distância entre clusters diferentes.\n",
        "Com um valor de\n",
        "0,8506, o modelo apresentado:\n",
        "\n",
        "Clusters altamente coesos : Os pontos estão bem agrupados em torno de seus centróides.\n",
        "Boa separação : Existe uma clara distinção entre os clusters, diminuindo que há pouca ou nenhuma sobreposição entre eles.\n",
        "Este resultado evidencia que os agrupamentos gerados possuem uma qualidade excepcional, reforçando a adequação do modelo para segmentação de dados.\n",
        "3. Inércia: 19081,31\n",
        "\n",
        "A inércia foi definida como a soma das distâncias quadradas entre os pontos e os centróides de seus respectivos clusters, é um indicativo de compacidade.\n",
        "\n",
        "Um valor de 19081.31, apesar de ser relativo ao volume de dados, mostra que os clusters formados são compactos.\n",
        "A redução da inércia com o aumento de K até 7 demonstram que a escolha deste valor como número ideal de clusters otimiza a relação entre simplicidade do modelo e precisão dos agrupamentos.\n",
        "4. Índice Calinski-Harabasz: 67.493,07\n",
        "\n",
        "O Índice Calinski-Harabasz , ou índice de razão de variância, mede a dispersão entre clusters em relação à dispersão interna. Um valor elevado como\n",
        "67493,07 indica:\n",
        "\n",
        "Dispersão intercluster significativa : Os clusters estão bem separados.\n",
        "Baixa variabilidade intracluster : Os dados dentro de cada cluster são homogêneos.\n",
        "Esse índice reforça a escolha de K = 7, evidenciando que o modelo é capaz de capturar as estruturas dos dados.\n",
        "\n",
        "\n"
      ]
    },
    {
      "cell_type": "markdown",
      "metadata": {
        "id": "A6twRCVVh-pN"
      },
      "source": [
        "Passo a Passo:\n",
        "Pré-processamento (Normalização ou Padronização): O t-SNE funciona melhor quando os dados estão escalados. Certifique-se de normalizar ou padronizar os dados para que todas as colunas tenham a mesma escala.\n",
        "\n",
        "Aplicação do t-SNE: Use a classe TSNE do scikit-learn para reduzir os dados para 2 ou 3 dimensões.\n",
        "\n",
        "Visualização dos resultados: Se reduzido para 2D, você pode visualizar em um gráfico de dispersão. Para 3D, use gráficos interativos."
      ]
    },
    {
      "cell_type": "markdown",
      "source": [
        "# Conclusão"
      ],
      "metadata": {
        "id": "ZvKtiao1tmLr"
      }
    },
    {
      "cell_type": "markdown",
      "source": [
        "Os resultados obtidos confirmam a alta qualidade do modelo K-Means com K=7, evidenciada pelas notas de avaliação. O Silhouette Score , com valor de 0,8506, demonstra que os agrupamentos são altamente coesos e bem separados, estabelecendo uma clara distinção entre os clusters. A inércia , com valor de 19081,31, reflete a compactação dos dados dentro de cada agrupamento, reforçando a homogeneidade interna dos clusters. Por sua vez, o Índice Calinski-Harabasz , com valor de 67493,07, destaca a nitidez das fronteiras entre os clusters, demonstrando a eficácia do modelo na separação dos grupos. Esses resultados reforçam a robustez do modelo de segmentação de dados e sua adequação para aplicações que exigem uma análise precisa de padrões e comportamentos.\n",
        "\n",
        "Essa configuração é ideal para aplicações em segmentações precisas, como análises de dados para o Reconhecimento de Atividade Humana (HAR) por meio de smartphones, que enfrentam desafios significativos. Os resultados obtidos fornecem uma base sólida para gerar insights estratégicos e orientar ações fundamentadas nos agrupamentos identificados."
      ],
      "metadata": {
        "id": "e0vaei7utw8b"
      }
    },
    {
      "cell_type": "code",
      "execution_count": null,
      "metadata": {
        "id": "30aMi3-kh8Fa"
      },
      "outputs": [],
      "source": [
        "from sklearn.manifold import TSNE\n",
        "import matplotlib.pyplot as plt\n",
        "import seaborn as sns\n",
        "from sklearn.preprocessing import StandardScaler\n",
        "\n",
        "# Passo 1: Normalizar os dados\n",
        "scaler = StandardScaler()\n",
        "X_scaled = scaler.fit_transform(df_x_train)\n",
        "\n",
        "# Passo 2: Aplicar t-SNE\n",
        "tsne = TSNE(n_components=2, random_state=42, perplexity=50)  # Para 2D\n",
        "X_tsne = tsne.fit_transform(X_scaled)\n",
        "\n",
        "# Passo 3: Visualização dos dados reduzidos\n",
        "plt.figure(figsize=(10, 8))\n",
        "sns.scatterplot(x=X_tsne[:, 0], y=X_tsne[:, 1], alpha=0.7)\n",
        "plt.title(\"t-SNE Visualização dos Dados (2D)\")\n",
        "plt.xlabel(\"Componente t-SNE 1\")\n",
        "plt.ylabel(\"Componente t-SNE 2\")\n",
        "plt.show()\n"
      ]
    },
    {
      "cell_type": "markdown",
      "metadata": {
        "id": "np3Waf9RiEu-"
      },
      "source": [
        "Explicação dos Hiperparâmetros do t-SNE:\n",
        "\n",
        "n_components: Define o número de dimensões finais (2D ou 3D).\n",
        "\n",
        "perplexity: Relaciona-se ao número de vizinhos considerados para cada ponto. Um bom valor padrão é entre 5 e 50.\n",
        "\n",
        "random_state: Para reprodutibilidade dos resultados."
      ]
    },
    {
      "cell_type": "code",
      "execution_count": null,
      "metadata": {
        "id": "zygGc5neiZBz"
      },
      "outputs": [],
      "source": [
        "from sklearn.manifold import TSNE\n",
        "import matplotlib.pyplot as plt\n",
        "import seaborn as sns\n",
        "\n",
        "perplexities = [10, 30, 50, 100]\n",
        "\n",
        "for perplexity in perplexities:\n",
        "    tsne = TSNE(n_components=2, random_state=42, perplexity=perplexity)\n",
        "    X_tsne = tsne.fit_transform(X_scaled)  # X_scaled é o dataset normalizado\n",
        "    plt.figure(figsize=(8, 6))\n",
        "    sns.scatterplot(x=X_tsne[:, 0], y=X_tsne[:, 1], alpha=0.7)\n",
        "    plt.title(f\"t-SNE com Perplexity = {perplexity}\")\n",
        "    plt.xlabel(\"Componente 1\")\n",
        "    plt.ylabel(\"Componente 2\")\n",
        "    plt.show()\n"
      ]
    }
  ],
  "metadata": {
    "colab": {
      "provenance": [],
      "include_colab_link": true
    },
    "kernelspec": {
      "display_name": "Python 3",
      "name": "python3"
    },
    "language_info": {
      "name": "python"
    }
  },
  "nbformat": 4,
  "nbformat_minor": 0
}